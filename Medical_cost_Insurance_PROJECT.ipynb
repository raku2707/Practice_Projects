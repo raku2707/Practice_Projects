{
 "cells": [
  {
   "cell_type": "code",
   "execution_count": 1,
   "id": "6010a089",
   "metadata": {},
   "outputs": [],
   "source": [
    "#importing some necessary libraries\n",
    "\n",
    "import numpy as np\n",
    "import pandas as pd\n",
    "import seaborn as sns\n",
    "import matplotlib.pyplot as plt\n",
    "from sklearn.model_selection import train_test_split\n",
    "from sklearn.ensemble import RandomForestClassifier\n",
    "from sklearn.metrics import accuracy_score\n",
    "\n",
    "import warnings\n",
    "warnings.filterwarnings('ignore')"
   ]
  },
  {
   "cell_type": "code",
   "execution_count": 2,
   "id": "8fb4794b",
   "metadata": {},
   "outputs": [
    {
     "data": {
      "text/html": [
       "<div>\n",
       "<style scoped>\n",
       "    .dataframe tbody tr th:only-of-type {\n",
       "        vertical-align: middle;\n",
       "    }\n",
       "\n",
       "    .dataframe tbody tr th {\n",
       "        vertical-align: top;\n",
       "    }\n",
       "\n",
       "    .dataframe thead th {\n",
       "        text-align: right;\n",
       "    }\n",
       "</style>\n",
       "<table border=\"1\" class=\"dataframe\">\n",
       "  <thead>\n",
       "    <tr style=\"text-align: right;\">\n",
       "      <th></th>\n",
       "      <th>age</th>\n",
       "      <th>sex</th>\n",
       "      <th>bmi</th>\n",
       "      <th>children</th>\n",
       "      <th>smoker</th>\n",
       "      <th>region</th>\n",
       "      <th>charges</th>\n",
       "    </tr>\n",
       "  </thead>\n",
       "  <tbody>\n",
       "    <tr>\n",
       "      <th>0</th>\n",
       "      <td>19</td>\n",
       "      <td>female</td>\n",
       "      <td>27.900</td>\n",
       "      <td>0</td>\n",
       "      <td>yes</td>\n",
       "      <td>southwest</td>\n",
       "      <td>16884.92400</td>\n",
       "    </tr>\n",
       "    <tr>\n",
       "      <th>1</th>\n",
       "      <td>18</td>\n",
       "      <td>male</td>\n",
       "      <td>33.770</td>\n",
       "      <td>1</td>\n",
       "      <td>no</td>\n",
       "      <td>southeast</td>\n",
       "      <td>1725.55230</td>\n",
       "    </tr>\n",
       "    <tr>\n",
       "      <th>2</th>\n",
       "      <td>28</td>\n",
       "      <td>male</td>\n",
       "      <td>33.000</td>\n",
       "      <td>3</td>\n",
       "      <td>no</td>\n",
       "      <td>southeast</td>\n",
       "      <td>4449.46200</td>\n",
       "    </tr>\n",
       "    <tr>\n",
       "      <th>3</th>\n",
       "      <td>33</td>\n",
       "      <td>male</td>\n",
       "      <td>22.705</td>\n",
       "      <td>0</td>\n",
       "      <td>no</td>\n",
       "      <td>northwest</td>\n",
       "      <td>21984.47061</td>\n",
       "    </tr>\n",
       "    <tr>\n",
       "      <th>4</th>\n",
       "      <td>32</td>\n",
       "      <td>male</td>\n",
       "      <td>28.880</td>\n",
       "      <td>0</td>\n",
       "      <td>no</td>\n",
       "      <td>northwest</td>\n",
       "      <td>3866.85520</td>\n",
       "    </tr>\n",
       "    <tr>\n",
       "      <th>...</th>\n",
       "      <td>...</td>\n",
       "      <td>...</td>\n",
       "      <td>...</td>\n",
       "      <td>...</td>\n",
       "      <td>...</td>\n",
       "      <td>...</td>\n",
       "      <td>...</td>\n",
       "    </tr>\n",
       "    <tr>\n",
       "      <th>1333</th>\n",
       "      <td>50</td>\n",
       "      <td>male</td>\n",
       "      <td>30.970</td>\n",
       "      <td>3</td>\n",
       "      <td>no</td>\n",
       "      <td>northwest</td>\n",
       "      <td>10600.54830</td>\n",
       "    </tr>\n",
       "    <tr>\n",
       "      <th>1334</th>\n",
       "      <td>18</td>\n",
       "      <td>female</td>\n",
       "      <td>31.920</td>\n",
       "      <td>0</td>\n",
       "      <td>no</td>\n",
       "      <td>northeast</td>\n",
       "      <td>2205.98080</td>\n",
       "    </tr>\n",
       "    <tr>\n",
       "      <th>1335</th>\n",
       "      <td>18</td>\n",
       "      <td>female</td>\n",
       "      <td>36.850</td>\n",
       "      <td>0</td>\n",
       "      <td>no</td>\n",
       "      <td>southeast</td>\n",
       "      <td>1629.83350</td>\n",
       "    </tr>\n",
       "    <tr>\n",
       "      <th>1336</th>\n",
       "      <td>21</td>\n",
       "      <td>female</td>\n",
       "      <td>25.800</td>\n",
       "      <td>0</td>\n",
       "      <td>no</td>\n",
       "      <td>southwest</td>\n",
       "      <td>2007.94500</td>\n",
       "    </tr>\n",
       "    <tr>\n",
       "      <th>1337</th>\n",
       "      <td>61</td>\n",
       "      <td>female</td>\n",
       "      <td>29.070</td>\n",
       "      <td>0</td>\n",
       "      <td>yes</td>\n",
       "      <td>northwest</td>\n",
       "      <td>29141.36030</td>\n",
       "    </tr>\n",
       "  </tbody>\n",
       "</table>\n",
       "<p>1338 rows × 7 columns</p>\n",
       "</div>"
      ],
      "text/plain": [
       "      age     sex     bmi  children smoker     region      charges\n",
       "0      19  female  27.900         0    yes  southwest  16884.92400\n",
       "1      18    male  33.770         1     no  southeast   1725.55230\n",
       "2      28    male  33.000         3     no  southeast   4449.46200\n",
       "3      33    male  22.705         0     no  northwest  21984.47061\n",
       "4      32    male  28.880         0     no  northwest   3866.85520\n",
       "...   ...     ...     ...       ...    ...        ...          ...\n",
       "1333   50    male  30.970         3     no  northwest  10600.54830\n",
       "1334   18  female  31.920         0     no  northeast   2205.98080\n",
       "1335   18  female  36.850         0     no  southeast   1629.83350\n",
       "1336   21  female  25.800         0     no  southwest   2007.94500\n",
       "1337   61  female  29.070         0    yes  northwest  29141.36030\n",
       "\n",
       "[1338 rows x 7 columns]"
      ]
     },
     "execution_count": 2,
     "metadata": {},
     "output_type": "execute_result"
    }
   ],
   "source": [
    "#create dataframe and read csv data from github\n",
    "\n",
    "MCI = pd.read_csv('https://raw.githubusercontent.com/dsrscientist/dataset4/main/medical_cost_insurance.csv')\n",
    "MCI"
   ]
  },
  {
   "cell_type": "code",
   "execution_count": 3,
   "id": "a7b09a5b",
   "metadata": {},
   "outputs": [
    {
     "data": {
      "text/plain": [
       "(1338, 7)"
      ]
     },
     "execution_count": 3,
     "metadata": {},
     "output_type": "execute_result"
    }
   ],
   "source": [
    "#Checking the number of rows and columns in the dataset\n",
    "\n",
    "MCI.shape\n",
    "\n",
    "#This way also we can find the numbe of rows and column in the dataset\n",
    "#print(\"Number of rows:- \",MCI.shape[0])\n",
    "#print(\"Number of columns:- \",MCI.shape[1])"
   ]
  },
  {
   "cell_type": "code",
   "execution_count": 4,
   "id": "82e64cff",
   "metadata": {},
   "outputs": [
    {
     "data": {
      "text/html": [
       "<div>\n",
       "<style scoped>\n",
       "    .dataframe tbody tr th:only-of-type {\n",
       "        vertical-align: middle;\n",
       "    }\n",
       "\n",
       "    .dataframe tbody tr th {\n",
       "        vertical-align: top;\n",
       "    }\n",
       "\n",
       "    .dataframe thead th {\n",
       "        text-align: right;\n",
       "    }\n",
       "</style>\n",
       "<table border=\"1\" class=\"dataframe\">\n",
       "  <thead>\n",
       "    <tr style=\"text-align: right;\">\n",
       "      <th></th>\n",
       "      <th>age</th>\n",
       "      <th>sex</th>\n",
       "      <th>bmi</th>\n",
       "      <th>children</th>\n",
       "      <th>smoker</th>\n",
       "      <th>region</th>\n",
       "      <th>charges</th>\n",
       "    </tr>\n",
       "  </thead>\n",
       "  <tbody>\n",
       "    <tr>\n",
       "      <th>0</th>\n",
       "      <td>19</td>\n",
       "      <td>female</td>\n",
       "      <td>27.900</td>\n",
       "      <td>0</td>\n",
       "      <td>yes</td>\n",
       "      <td>southwest</td>\n",
       "      <td>16884.92400</td>\n",
       "    </tr>\n",
       "    <tr>\n",
       "      <th>1</th>\n",
       "      <td>18</td>\n",
       "      <td>male</td>\n",
       "      <td>33.770</td>\n",
       "      <td>1</td>\n",
       "      <td>no</td>\n",
       "      <td>southeast</td>\n",
       "      <td>1725.55230</td>\n",
       "    </tr>\n",
       "    <tr>\n",
       "      <th>2</th>\n",
       "      <td>28</td>\n",
       "      <td>male</td>\n",
       "      <td>33.000</td>\n",
       "      <td>3</td>\n",
       "      <td>no</td>\n",
       "      <td>southeast</td>\n",
       "      <td>4449.46200</td>\n",
       "    </tr>\n",
       "    <tr>\n",
       "      <th>3</th>\n",
       "      <td>33</td>\n",
       "      <td>male</td>\n",
       "      <td>22.705</td>\n",
       "      <td>0</td>\n",
       "      <td>no</td>\n",
       "      <td>northwest</td>\n",
       "      <td>21984.47061</td>\n",
       "    </tr>\n",
       "    <tr>\n",
       "      <th>4</th>\n",
       "      <td>32</td>\n",
       "      <td>male</td>\n",
       "      <td>28.880</td>\n",
       "      <td>0</td>\n",
       "      <td>no</td>\n",
       "      <td>northwest</td>\n",
       "      <td>3866.85520</td>\n",
       "    </tr>\n",
       "  </tbody>\n",
       "</table>\n",
       "</div>"
      ],
      "text/plain": [
       "   age     sex     bmi  children smoker     region      charges\n",
       "0   19  female  27.900         0    yes  southwest  16884.92400\n",
       "1   18    male  33.770         1     no  southeast   1725.55230\n",
       "2   28    male  33.000         3     no  southeast   4449.46200\n",
       "3   33    male  22.705         0     no  northwest  21984.47061\n",
       "4   32    male  28.880         0     no  northwest   3866.85520"
      ]
     },
     "execution_count": 4,
     "metadata": {},
     "output_type": "execute_result"
    }
   ],
   "source": [
    "# first 5 rows from Dataset or write the any number in breacket if you want\n",
    "\n",
    "MCI.head()"
   ]
  },
  {
   "cell_type": "code",
   "execution_count": 5,
   "id": "18c37756",
   "metadata": {},
   "outputs": [
    {
     "data": {
      "text/html": [
       "<div>\n",
       "<style scoped>\n",
       "    .dataframe tbody tr th:only-of-type {\n",
       "        vertical-align: middle;\n",
       "    }\n",
       "\n",
       "    .dataframe tbody tr th {\n",
       "        vertical-align: top;\n",
       "    }\n",
       "\n",
       "    .dataframe thead th {\n",
       "        text-align: right;\n",
       "    }\n",
       "</style>\n",
       "<table border=\"1\" class=\"dataframe\">\n",
       "  <thead>\n",
       "    <tr style=\"text-align: right;\">\n",
       "      <th></th>\n",
       "      <th>age</th>\n",
       "      <th>sex</th>\n",
       "      <th>bmi</th>\n",
       "      <th>children</th>\n",
       "      <th>smoker</th>\n",
       "      <th>region</th>\n",
       "      <th>charges</th>\n",
       "    </tr>\n",
       "  </thead>\n",
       "  <tbody>\n",
       "    <tr>\n",
       "      <th>1333</th>\n",
       "      <td>50</td>\n",
       "      <td>male</td>\n",
       "      <td>30.97</td>\n",
       "      <td>3</td>\n",
       "      <td>no</td>\n",
       "      <td>northwest</td>\n",
       "      <td>10600.5483</td>\n",
       "    </tr>\n",
       "    <tr>\n",
       "      <th>1334</th>\n",
       "      <td>18</td>\n",
       "      <td>female</td>\n",
       "      <td>31.92</td>\n",
       "      <td>0</td>\n",
       "      <td>no</td>\n",
       "      <td>northeast</td>\n",
       "      <td>2205.9808</td>\n",
       "    </tr>\n",
       "    <tr>\n",
       "      <th>1335</th>\n",
       "      <td>18</td>\n",
       "      <td>female</td>\n",
       "      <td>36.85</td>\n",
       "      <td>0</td>\n",
       "      <td>no</td>\n",
       "      <td>southeast</td>\n",
       "      <td>1629.8335</td>\n",
       "    </tr>\n",
       "    <tr>\n",
       "      <th>1336</th>\n",
       "      <td>21</td>\n",
       "      <td>female</td>\n",
       "      <td>25.80</td>\n",
       "      <td>0</td>\n",
       "      <td>no</td>\n",
       "      <td>southwest</td>\n",
       "      <td>2007.9450</td>\n",
       "    </tr>\n",
       "    <tr>\n",
       "      <th>1337</th>\n",
       "      <td>61</td>\n",
       "      <td>female</td>\n",
       "      <td>29.07</td>\n",
       "      <td>0</td>\n",
       "      <td>yes</td>\n",
       "      <td>northwest</td>\n",
       "      <td>29141.3603</td>\n",
       "    </tr>\n",
       "  </tbody>\n",
       "</table>\n",
       "</div>"
      ],
      "text/plain": [
       "      age     sex    bmi  children smoker     region     charges\n",
       "1333   50    male  30.97         3     no  northwest  10600.5483\n",
       "1334   18  female  31.92         0     no  northeast   2205.9808\n",
       "1335   18  female  36.85         0     no  southeast   1629.8335\n",
       "1336   21  female  25.80         0     no  southwest   2007.9450\n",
       "1337   61  female  29.07         0    yes  northwest  29141.3603"
      ]
     },
     "execution_count": 5,
     "metadata": {},
     "output_type": "execute_result"
    }
   ],
   "source": [
    "# Last 5 rows from Dataset or write the any number in breacket if you want\n",
    "\n",
    "MCI.tail()"
   ]
  },
  {
   "cell_type": "code",
   "execution_count": 6,
   "id": "621b4b4a",
   "metadata": {},
   "outputs": [
    {
     "data": {
      "text/plain": [
       "Index(['age', 'sex', 'bmi', 'children', 'smoker', 'region', 'charges'], dtype='object')"
      ]
     },
     "execution_count": 6,
     "metadata": {},
     "output_type": "execute_result"
    }
   ],
   "source": [
    "#Checking the columns of the dataset\n",
    "\n",
    "MCI.columns"
   ]
  },
  {
   "cell_type": "code",
   "execution_count": 7,
   "id": "d615553d",
   "metadata": {},
   "outputs": [
    {
     "name": "stdout",
     "output_type": "stream",
     "text": [
      "<class 'pandas.core.frame.DataFrame'>\n",
      "RangeIndex: 1338 entries, 0 to 1337\n",
      "Data columns (total 7 columns):\n",
      " #   Column    Non-Null Count  Dtype  \n",
      "---  ------    --------------  -----  \n",
      " 0   age       1338 non-null   int64  \n",
      " 1   sex       1338 non-null   object \n",
      " 2   bmi       1338 non-null   float64\n",
      " 3   children  1338 non-null   int64  \n",
      " 4   smoker    1338 non-null   object \n",
      " 5   region    1338 non-null   object \n",
      " 6   charges   1338 non-null   float64\n",
      "dtypes: float64(2), int64(2), object(3)\n",
      "memory usage: 73.3+ KB\n"
     ]
    }
   ],
   "source": [
    "#Getting the information of dataset ( All information about the columns/about your data )\n",
    "\n",
    "MCI.info()"
   ]
  },
  {
   "cell_type": "code",
   "execution_count": 8,
   "id": "6b10cfb2",
   "metadata": {},
   "outputs": [
    {
     "data": {
      "text/plain": [
       "age         0\n",
       "sex         0\n",
       "bmi         0\n",
       "children    0\n",
       "smoker      0\n",
       "region      0\n",
       "charges     0\n",
       "dtype: int64"
      ]
     },
     "execution_count": 8,
     "metadata": {},
     "output_type": "execute_result"
    }
   ],
   "source": [
    "#Checking the null values\n",
    "\n",
    "MCI.isnull().sum()"
   ]
  },
  {
   "cell_type": "code",
   "execution_count": 9,
   "id": "9f4388d8",
   "metadata": {},
   "outputs": [
    {
     "data": {
      "text/html": [
       "<div>\n",
       "<style scoped>\n",
       "    .dataframe tbody tr th:only-of-type {\n",
       "        vertical-align: middle;\n",
       "    }\n",
       "\n",
       "    .dataframe tbody tr th {\n",
       "        vertical-align: top;\n",
       "    }\n",
       "\n",
       "    .dataframe thead th {\n",
       "        text-align: right;\n",
       "    }\n",
       "</style>\n",
       "<table border=\"1\" class=\"dataframe\">\n",
       "  <thead>\n",
       "    <tr style=\"text-align: right;\">\n",
       "      <th></th>\n",
       "      <th>age</th>\n",
       "      <th>bmi</th>\n",
       "      <th>children</th>\n",
       "      <th>charges</th>\n",
       "    </tr>\n",
       "  </thead>\n",
       "  <tbody>\n",
       "    <tr>\n",
       "      <th>count</th>\n",
       "      <td>1338.000000</td>\n",
       "      <td>1338.000000</td>\n",
       "      <td>1338.000000</td>\n",
       "      <td>1338.000000</td>\n",
       "    </tr>\n",
       "    <tr>\n",
       "      <th>mean</th>\n",
       "      <td>39.207025</td>\n",
       "      <td>30.663397</td>\n",
       "      <td>1.094918</td>\n",
       "      <td>13270.422265</td>\n",
       "    </tr>\n",
       "    <tr>\n",
       "      <th>std</th>\n",
       "      <td>14.049960</td>\n",
       "      <td>6.098187</td>\n",
       "      <td>1.205493</td>\n",
       "      <td>12110.011237</td>\n",
       "    </tr>\n",
       "    <tr>\n",
       "      <th>min</th>\n",
       "      <td>18.000000</td>\n",
       "      <td>15.960000</td>\n",
       "      <td>0.000000</td>\n",
       "      <td>1121.873900</td>\n",
       "    </tr>\n",
       "    <tr>\n",
       "      <th>25%</th>\n",
       "      <td>27.000000</td>\n",
       "      <td>26.296250</td>\n",
       "      <td>0.000000</td>\n",
       "      <td>4740.287150</td>\n",
       "    </tr>\n",
       "    <tr>\n",
       "      <th>50%</th>\n",
       "      <td>39.000000</td>\n",
       "      <td>30.400000</td>\n",
       "      <td>1.000000</td>\n",
       "      <td>9382.033000</td>\n",
       "    </tr>\n",
       "    <tr>\n",
       "      <th>75%</th>\n",
       "      <td>51.000000</td>\n",
       "      <td>34.693750</td>\n",
       "      <td>2.000000</td>\n",
       "      <td>16639.912515</td>\n",
       "    </tr>\n",
       "    <tr>\n",
       "      <th>max</th>\n",
       "      <td>64.000000</td>\n",
       "      <td>53.130000</td>\n",
       "      <td>5.000000</td>\n",
       "      <td>63770.428010</td>\n",
       "    </tr>\n",
       "  </tbody>\n",
       "</table>\n",
       "</div>"
      ],
      "text/plain": [
       "               age          bmi     children       charges\n",
       "count  1338.000000  1338.000000  1338.000000   1338.000000\n",
       "mean     39.207025    30.663397     1.094918  13270.422265\n",
       "std      14.049960     6.098187     1.205493  12110.011237\n",
       "min      18.000000    15.960000     0.000000   1121.873900\n",
       "25%      27.000000    26.296250     0.000000   4740.287150\n",
       "50%      39.000000    30.400000     1.000000   9382.033000\n",
       "75%      51.000000    34.693750     2.000000  16639.912515\n",
       "max      64.000000    53.130000     5.000000  63770.428010"
      ]
     },
     "execution_count": 9,
     "metadata": {},
     "output_type": "execute_result"
    }
   ],
   "source": [
    "#Statistical summary of the dataset\n",
    "\n",
    "MCI.describe()"
   ]
  },
  {
   "cell_type": "markdown",
   "id": "09726f94",
   "metadata": {},
   "source": [
    "Here we see the only 4 column summary. because those are numerical columns.\n",
    "\n",
    "Sex, Smoker, Region are categorical columns."
   ]
  },
  {
   "cell_type": "code",
   "execution_count": null,
   "id": "c21210b9",
   "metadata": {},
   "outputs": [],
   "source": []
  },
  {
   "cell_type": "markdown",
   "id": "ed414fd4",
   "metadata": {},
   "source": [
    "### Checking unique label and value counts from the categorical column."
   ]
  },
  {
   "cell_type": "code",
   "execution_count": 10,
   "id": "2cbbf934",
   "metadata": {},
   "outputs": [
    {
     "data": {
      "text/plain": [
       "array(['female', 'male'], dtype=object)"
      ]
     },
     "execution_count": 10,
     "metadata": {},
     "output_type": "execute_result"
    }
   ],
   "source": [
    "#Checking unique labels from 'sex' column\n",
    "\n",
    "MCI['sex'].unique()"
   ]
  },
  {
   "cell_type": "code",
   "execution_count": 11,
   "id": "39b08a18",
   "metadata": {},
   "outputs": [
    {
     "name": "stdout",
     "output_type": "stream",
     "text": [
      "male      676\n",
      "female    662\n",
      "Name: sex, dtype: int64\n"
     ]
    }
   ],
   "source": [
    "#Checking the value counts of the 'sex' variables\n",
    "\n",
    "print(MCI.sex.value_counts())"
   ]
  },
  {
   "cell_type": "code",
   "execution_count": 12,
   "id": "49239c06",
   "metadata": {},
   "outputs": [
    {
     "data": {
      "text/plain": [
       "array(['yes', 'no'], dtype=object)"
      ]
     },
     "execution_count": 12,
     "metadata": {},
     "output_type": "execute_result"
    }
   ],
   "source": [
    "#Checking unique labels from 'smoker' column\n",
    "\n",
    "MCI['smoker'].unique()"
   ]
  },
  {
   "cell_type": "code",
   "execution_count": 13,
   "id": "6a6fdb79",
   "metadata": {},
   "outputs": [
    {
     "name": "stdout",
     "output_type": "stream",
     "text": [
      "no     1064\n",
      "yes     274\n",
      "Name: smoker, dtype: int64\n"
     ]
    }
   ],
   "source": [
    "#Checking the value counts of the 'smoker' variables\n",
    "\n",
    "print(MCI.smoker.value_counts())"
   ]
  },
  {
   "cell_type": "code",
   "execution_count": 14,
   "id": "647d8cfc",
   "metadata": {},
   "outputs": [
    {
     "data": {
      "text/plain": [
       "array(['southwest', 'southeast', 'northwest', 'northeast'], dtype=object)"
      ]
     },
     "execution_count": 14,
     "metadata": {},
     "output_type": "execute_result"
    }
   ],
   "source": [
    "#Checking unique labels from 'region' column\n",
    "\n",
    "MCI['region'].unique()"
   ]
  },
  {
   "cell_type": "code",
   "execution_count": 15,
   "id": "ff37eaff",
   "metadata": {},
   "outputs": [
    {
     "name": "stdout",
     "output_type": "stream",
     "text": [
      "southeast    364\n",
      "southwest    325\n",
      "northwest    325\n",
      "northeast    324\n",
      "Name: region, dtype: int64\n"
     ]
    }
   ],
   "source": [
    "#Checking the value counts of the 'region' variables\n",
    "\n",
    "print(MCI.region.value_counts())"
   ]
  },
  {
   "cell_type": "code",
   "execution_count": null,
   "id": "754ca085",
   "metadata": {},
   "outputs": [],
   "source": []
  },
  {
   "cell_type": "markdown",
   "id": "65e7c25c",
   "metadata": {},
   "source": [
    "## Data Visualization"
   ]
  },
  {
   "cell_type": "markdown",
   "id": "8e9cbbf4",
   "metadata": {},
   "source": [
    "### Visualizing the countplot in categorical columns"
   ]
  },
  {
   "cell_type": "code",
   "execution_count": 16,
   "id": "de4e47b4",
   "metadata": {},
   "outputs": [
    {
     "data": {
      "image/png": "[encoded data removed]",
      "text/plain": [
       "<Figure size 360x360 with 1 Axes>"
      ]
     },
     "metadata": {
      "needs_background": "light"
     },
     "output_type": "display_data"
    },
    {
     "data": {
      "image/png": "[encoded data removed]",
      "text/plain": [
       "<Figure size 360x360 with 1 Axes>"
      ]
     },
     "metadata": {
      "needs_background": "light"
     },
     "output_type": "display_data"
    },
    {
     "data": {
      "image/png": "[encoded data removed]",
      "text/plain": [
       "<Figure size 360x360 with 1 Axes>"
      ]
     },
     "metadata": {
      "needs_background": "light"
     },
     "output_type": "display_data"
    }
   ],
   "source": [
    "#Visualizing Gender distribution in sex column using countplot\n",
    "\n",
    "plt.figure(figsize=(5,5))\n",
    "sns.countplot(x='sex', data=MCI)\n",
    "plt.title('Gender Distribution')\n",
    "plt.show()\n",
    "\n",
    "\n",
    "#Visualizing smoker column using countplot\n",
    "\n",
    "plt.figure(figsize=(5,5))\n",
    "sns.countplot(x='smoker', data=MCI)\n",
    "plt.title('Smoker')\n",
    "plt.show()\n",
    "\n",
    "\n",
    "#Visualizing region column using countplot\n",
    "\n",
    "plt.figure(figsize=(5,5))\n",
    "sns.countplot(x='region', data=MCI)\n",
    "plt.title('Region')\n",
    "plt.show()"
   ]
  },
  {
   "cell_type": "markdown",
   "id": "4823ec3b",
   "metadata": {},
   "source": [
    "1) Males are normally high in count of Female in Gendre distribution (Sex).\n",
    "\n",
    "2) Non Smoker are high in count of smoker.\n",
    "\n",
    "3) Southeast region is high in count of southwest, northwest and northeast in Region."
   ]
  },
  {
   "cell_type": "code",
   "execution_count": null,
   "id": "4f795e54",
   "metadata": {},
   "outputs": [],
   "source": []
  },
  {
   "cell_type": "markdown",
   "id": "8edc8e4b",
   "metadata": {},
   "source": [
    "## Visualizing the barplot in categorical column with target variable"
   ]
  },
  {
   "cell_type": "code",
   "execution_count": 17,
   "id": "e4f9b64a",
   "metadata": {},
   "outputs": [
    {
     "data": {
      "image/png": "[encoded data removed]",
      "text/plain": [
       "<Figure size 720x720 with 4 Axes>"
      ]
     },
     "metadata": {
      "needs_background": "light"
     },
     "output_type": "display_data"
    }
   ],
   "source": [
    "#Visualizing the histogram for each numerical column\n",
    "\n",
    "MCI.hist(bins=10, figsize=(10,10))\n",
    "plt.show()"
   ]
  },
  {
   "cell_type": "markdown",
   "id": "6152d9ec",
   "metadata": {},
   "source": [
    "Here we see the histogram of the all numerical columns."
   ]
  },
  {
   "cell_type": "code",
   "execution_count": null,
   "id": "6d02dee5",
   "metadata": {},
   "outputs": [],
   "source": []
  },
  {
   "cell_type": "code",
   "execution_count": 18,
   "id": "139867d0",
   "metadata": {
    "scrolled": false
   },
   "outputs": [
    {
     "data": {
      "text/plain": [
       "<seaborn.axisgrid.FacetGrid at 0x1d77dcc28e0>"
      ]
     },
     "execution_count": 18,
     "metadata": {},
     "output_type": "execute_result"
    },
    {
     "data": {
      "text/plain": [
       "<Figure size 216x216 with 0 Axes>"
      ]
     },
     "metadata": {},
     "output_type": "display_data"
    },
    {
     "data": {
      "image/png": "[encoded data removed]",
      "text/plain": [
       "<Figure size 360x360 with 1 Axes>"
      ]
     },
     "metadata": {
      "needs_background": "light"
     },
     "output_type": "display_data"
    },
    {
     "data": {
      "text/plain": [
       "<Figure size 216x216 with 0 Axes>"
      ]
     },
     "metadata": {},
     "output_type": "display_data"
    },
    {
     "data": {
      "image/png": "[encoded data removed]",
      "text/plain": [
       "<Figure size 360x360 with 1 Axes>"
      ]
     },
     "metadata": {
      "needs_background": "light"
     },
     "output_type": "display_data"
    },
    {
     "data": {
      "text/plain": [
       "<Figure size 216x216 with 0 Axes>"
      ]
     },
     "metadata": {},
     "output_type": "display_data"
    },
    {
     "data": {
      "image/png": "[encoded data removed]",
      "text/plain": [
       "<Figure size 360x360 with 1 Axes>"
      ]
     },
     "metadata": {
      "needs_background": "light"
     },
     "output_type": "display_data"
    },
    {
     "data": {
      "text/plain": [
       "<Figure size 216x216 with 0 Axes>"
      ]
     },
     "metadata": {},
     "output_type": "display_data"
    },
    {
     "data": {
      "image/png": "[encoded data removed]",
      "text/plain": [
       "<Figure size 360x360 with 1 Axes>"
      ]
     },
     "metadata": {
      "needs_background": "light"
     },
     "output_type": "display_data"
    },
    {
     "data": {
      "text/plain": [
       "<Figure size 216x216 with 0 Axes>"
      ]
     },
     "metadata": {},
     "output_type": "display_data"
    },
    {
     "data": {
      "image/png": "[encoded data removed]",
      "text/plain": [
       "<Figure size 360x360 with 1 Axes>"
      ]
     },
     "metadata": {
      "needs_background": "light"
     },
     "output_type": "display_data"
    },
    {
     "data": {
      "text/plain": [
       "<Figure size 216x216 with 0 Axes>"
      ]
     },
     "metadata": {},
     "output_type": "display_data"
    },
    {
     "data": {
      "image/png": "[encoded data removed]",
      "text/plain": [
       "<Figure size 360x360 with 1 Axes>"
      ]
     },
     "metadata": {
      "needs_background": "light"
     },
     "output_type": "display_data"
    },
    {
     "data": {
      "text/plain": [
       "<Figure size 216x216 with 0 Axes>"
      ]
     },
     "metadata": {},
     "output_type": "display_data"
    },
    {
     "data": {
      "image/png": "[encoded data removed]",
      "text/plain": [
       "<Figure size 360x360 with 1 Axes>"
      ]
     },
     "metadata": {
      "needs_background": "light"
     },
     "output_type": "display_data"
    }
   ],
   "source": [
    "#Visualize the all columns using distplot \n",
    "\n",
    "plt.figure(figsize=(3,3))\n",
    "sns.displot(data=MCI, x = 'age')\n",
    "\n",
    "plt.figure(figsize=(3,3))\n",
    "sns.displot(data=MCI, x = 'sex')\n",
    "\n",
    "plt.figure(figsize=(3,3))\n",
    "sns.displot(data=MCI, x = 'bmi')\n",
    "\n",
    "plt.figure(figsize=(3,3))\n",
    "sns.displot(data=MCI, x = 'children')\n",
    "\n",
    "plt.figure(figsize=(3,3))\n",
    "sns.displot(data=MCI, x = 'smoker')\n",
    "\n",
    "plt.figure(figsize=(3,3))\n",
    "sns.displot(data=MCI, x = 'region')\n",
    "\n",
    "plt.figure(figsize=(3,3))\n",
    "sns.displot(data=MCI, x = 'charges')"
   ]
  },
  {
   "cell_type": "markdown",
   "id": "ee88ab1e",
   "metadata": {},
   "source": [
    "Here we see the displot of all Columns."
   ]
  },
  {
   "cell_type": "code",
   "execution_count": null,
   "id": "646220eb",
   "metadata": {},
   "outputs": [],
   "source": []
  },
  {
   "cell_type": "markdown",
   "id": "701551bf",
   "metadata": {},
   "source": [
    "## Check the value counts of each column"
   ]
  },
  {
   "cell_type": "code",
   "execution_count": 19,
   "id": "64203de4",
   "metadata": {},
   "outputs": [
    {
     "name": "stdout",
     "output_type": "stream",
     "text": [
      "18    69\n",
      "19    68\n",
      "50    29\n",
      "51    29\n",
      "47    29\n",
      "46    29\n",
      "45    29\n",
      "20    29\n",
      "48    29\n",
      "52    29\n",
      "22    28\n",
      "49    28\n",
      "54    28\n",
      "53    28\n",
      "21    28\n",
      "26    28\n",
      "24    28\n",
      "25    28\n",
      "28    28\n",
      "27    28\n",
      "23    28\n",
      "43    27\n",
      "29    27\n",
      "30    27\n",
      "41    27\n",
      "42    27\n",
      "44    27\n",
      "31    27\n",
      "40    27\n",
      "32    26\n",
      "33    26\n",
      "56    26\n",
      "34    26\n",
      "55    26\n",
      "57    26\n",
      "37    25\n",
      "59    25\n",
      "58    25\n",
      "36    25\n",
      "38    25\n",
      "35    25\n",
      "39    25\n",
      "61    23\n",
      "60    23\n",
      "63    23\n",
      "62    23\n",
      "64    22\n",
      "Name: age, dtype: int64\n"
     ]
    }
   ],
   "source": [
    "#Checking the value counts of the age variables\n",
    "\n",
    "print(MCI.age.value_counts())"
   ]
  },
  {
   "cell_type": "code",
   "execution_count": 20,
   "id": "3f0383b9",
   "metadata": {},
   "outputs": [
    {
     "name": "stdout",
     "output_type": "stream",
     "text": [
      "male      676\n",
      "female    662\n",
      "Name: sex, dtype: int64\n"
     ]
    }
   ],
   "source": [
    "#Checking the value counts of the sex variables\n",
    "\n",
    "print(MCI.sex.value_counts())"
   ]
  },
  {
   "cell_type": "code",
   "execution_count": 21,
   "id": "092c6c12",
   "metadata": {},
   "outputs": [
    {
     "name": "stdout",
     "output_type": "stream",
     "text": [
      "32.300    13\n",
      "28.310     9\n",
      "30.495     8\n",
      "30.875     8\n",
      "31.350     8\n",
      "          ..\n",
      "46.200     1\n",
      "23.800     1\n",
      "44.770     1\n",
      "32.120     1\n",
      "30.970     1\n",
      "Name: bmi, Length: 548, dtype: int64\n"
     ]
    }
   ],
   "source": [
    "#Checking the value counts of the bmi variables\n",
    "\n",
    "print(MCI.bmi.value_counts())"
   ]
  },
  {
   "cell_type": "code",
   "execution_count": 22,
   "id": "6bc6fbca",
   "metadata": {},
   "outputs": [
    {
     "name": "stdout",
     "output_type": "stream",
     "text": [
      "0    574\n",
      "1    324\n",
      "2    240\n",
      "3    157\n",
      "4     25\n",
      "5     18\n",
      "Name: children, dtype: int64\n"
     ]
    }
   ],
   "source": [
    "#Checking the value counts of the childern variables\n",
    "\n",
    "print(MCI.children.value_counts())"
   ]
  },
  {
   "cell_type": "code",
   "execution_count": 23,
   "id": "7eed176f",
   "metadata": {},
   "outputs": [
    {
     "name": "stdout",
     "output_type": "stream",
     "text": [
      "no     1064\n",
      "yes     274\n",
      "Name: smoker, dtype: int64\n"
     ]
    }
   ],
   "source": [
    "#Checking the value counts of the smoker variables\n",
    "\n",
    "print(MCI.smoker.value_counts())"
   ]
  },
  {
   "cell_type": "code",
   "execution_count": 24,
   "id": "5065d00a",
   "metadata": {},
   "outputs": [
    {
     "name": "stdout",
     "output_type": "stream",
     "text": [
      "southeast    364\n",
      "southwest    325\n",
      "northwest    325\n",
      "northeast    324\n",
      "Name: region, dtype: int64\n"
     ]
    }
   ],
   "source": [
    "#Checking the value counts of the region variables\n",
    "\n",
    "print(MCI.region.value_counts())"
   ]
  },
  {
   "cell_type": "code",
   "execution_count": 25,
   "id": "7f80165d",
   "metadata": {},
   "outputs": [
    {
     "name": "stdout",
     "output_type": "stream",
     "text": [
      "1639.56310     2\n",
      "16884.92400    1\n",
      "29330.98315    1\n",
      "2221.56445     1\n",
      "19798.05455    1\n",
      "              ..\n",
      "7345.08400     1\n",
      "26109.32905    1\n",
      "28287.89766    1\n",
      "1149.39590     1\n",
      "29141.36030    1\n",
      "Name: charges, Length: 1337, dtype: int64\n"
     ]
    }
   ],
   "source": [
    "#Checking the value counts of the charges variables\n",
    "\n",
    "print(MCI.charges.value_counts())"
   ]
  },
  {
   "cell_type": "code",
   "execution_count": null,
   "id": "6f32ba53",
   "metadata": {},
   "outputs": [],
   "source": []
  },
  {
   "cell_type": "markdown",
   "id": "45ea287e",
   "metadata": {},
   "source": [
    "## Convert categorical column to numerical column"
   ]
  },
  {
   "cell_type": "code",
   "execution_count": 26,
   "id": "3d8dd8ff",
   "metadata": {},
   "outputs": [],
   "source": [
    "MCI.replace({'sex':{'male':0, 'female':1}}, inplace=True)\n",
    "MCI.replace({'smoker':{'yes':0, 'no':1}}, inplace=True)\n",
    "MCI.replace({'region':{'southeast':0, 'southwest':1, 'northwest':2, 'northeast':4}}, inplace=True)"
   ]
  },
  {
   "cell_type": "code",
   "execution_count": 27,
   "id": "068becf1",
   "metadata": {},
   "outputs": [
    {
     "data": {
      "text/html": [
       "<div>\n",
       "<style scoped>\n",
       "    .dataframe tbody tr th:only-of-type {\n",
       "        vertical-align: middle;\n",
       "    }\n",
       "\n",
       "    .dataframe tbody tr th {\n",
       "        vertical-align: top;\n",
       "    }\n",
       "\n",
       "    .dataframe thead th {\n",
       "        text-align: right;\n",
       "    }\n",
       "</style>\n",
       "<table border=\"1\" class=\"dataframe\">\n",
       "  <thead>\n",
       "    <tr style=\"text-align: right;\">\n",
       "      <th></th>\n",
       "      <th>age</th>\n",
       "      <th>sex</th>\n",
       "      <th>bmi</th>\n",
       "      <th>children</th>\n",
       "      <th>smoker</th>\n",
       "      <th>region</th>\n",
       "      <th>charges</th>\n",
       "    </tr>\n",
       "  </thead>\n",
       "  <tbody>\n",
       "    <tr>\n",
       "      <th>0</th>\n",
       "      <td>19</td>\n",
       "      <td>1</td>\n",
       "      <td>27.900</td>\n",
       "      <td>0</td>\n",
       "      <td>0</td>\n",
       "      <td>1</td>\n",
       "      <td>16884.92400</td>\n",
       "    </tr>\n",
       "    <tr>\n",
       "      <th>1</th>\n",
       "      <td>18</td>\n",
       "      <td>0</td>\n",
       "      <td>33.770</td>\n",
       "      <td>1</td>\n",
       "      <td>1</td>\n",
       "      <td>0</td>\n",
       "      <td>1725.55230</td>\n",
       "    </tr>\n",
       "    <tr>\n",
       "      <th>2</th>\n",
       "      <td>28</td>\n",
       "      <td>0</td>\n",
       "      <td>33.000</td>\n",
       "      <td>3</td>\n",
       "      <td>1</td>\n",
       "      <td>0</td>\n",
       "      <td>4449.46200</td>\n",
       "    </tr>\n",
       "    <tr>\n",
       "      <th>3</th>\n",
       "      <td>33</td>\n",
       "      <td>0</td>\n",
       "      <td>22.705</td>\n",
       "      <td>0</td>\n",
       "      <td>1</td>\n",
       "      <td>2</td>\n",
       "      <td>21984.47061</td>\n",
       "    </tr>\n",
       "    <tr>\n",
       "      <th>4</th>\n",
       "      <td>32</td>\n",
       "      <td>0</td>\n",
       "      <td>28.880</td>\n",
       "      <td>0</td>\n",
       "      <td>1</td>\n",
       "      <td>2</td>\n",
       "      <td>3866.85520</td>\n",
       "    </tr>\n",
       "  </tbody>\n",
       "</table>\n",
       "</div>"
      ],
      "text/plain": [
       "   age  sex     bmi  children  smoker  region      charges\n",
       "0   19    1  27.900         0       0       1  16884.92400\n",
       "1   18    0  33.770         1       1       0   1725.55230\n",
       "2   28    0  33.000         3       1       0   4449.46200\n",
       "3   33    0  22.705         0       1       2  21984.47061\n",
       "4   32    0  28.880         0       1       2   3866.85520"
      ]
     },
     "execution_count": 27,
     "metadata": {},
     "output_type": "execute_result"
    }
   ],
   "source": [
    "MCI.head()"
   ]
  },
  {
   "cell_type": "code",
   "execution_count": null,
   "id": "57982e7e",
   "metadata": {},
   "outputs": [],
   "source": []
  },
  {
   "cell_type": "markdown",
   "id": "8829c730",
   "metadata": {},
   "source": [
    "## Correlation between all numerical variables"
   ]
  },
  {
   "cell_type": "code",
   "execution_count": 28,
   "id": "7389b948",
   "metadata": {},
   "outputs": [
    {
     "data": {
      "text/html": [
       "<div>\n",
       "<style scoped>\n",
       "    .dataframe tbody tr th:only-of-type {\n",
       "        vertical-align: middle;\n",
       "    }\n",
       "\n",
       "    .dataframe tbody tr th {\n",
       "        vertical-align: top;\n",
       "    }\n",
       "\n",
       "    .dataframe thead th {\n",
       "        text-align: right;\n",
       "    }\n",
       "</style>\n",
       "<table border=\"1\" class=\"dataframe\">\n",
       "  <thead>\n",
       "    <tr style=\"text-align: right;\">\n",
       "      <th></th>\n",
       "      <th>age</th>\n",
       "      <th>sex</th>\n",
       "      <th>bmi</th>\n",
       "      <th>children</th>\n",
       "      <th>smoker</th>\n",
       "      <th>region</th>\n",
       "      <th>charges</th>\n",
       "    </tr>\n",
       "  </thead>\n",
       "  <tbody>\n",
       "    <tr>\n",
       "      <th>age</th>\n",
       "      <td>1.000000</td>\n",
       "      <td>0.020856</td>\n",
       "      <td>0.109272</td>\n",
       "      <td>0.042469</td>\n",
       "      <td>0.025019</td>\n",
       "      <td>0.005509</td>\n",
       "      <td>0.299008</td>\n",
       "    </tr>\n",
       "    <tr>\n",
       "      <th>sex</th>\n",
       "      <td>0.020856</td>\n",
       "      <td>1.000000</td>\n",
       "      <td>-0.046371</td>\n",
       "      <td>-0.017163</td>\n",
       "      <td>0.076185</td>\n",
       "      <td>0.010443</td>\n",
       "      <td>-0.057292</td>\n",
       "    </tr>\n",
       "    <tr>\n",
       "      <th>bmi</th>\n",
       "      <td>0.109272</td>\n",
       "      <td>-0.046371</td>\n",
       "      <td>1.000000</td>\n",
       "      <td>0.012759</td>\n",
       "      <td>-0.003750</td>\n",
       "      <td>-0.239601</td>\n",
       "      <td>0.198341</td>\n",
       "    </tr>\n",
       "    <tr>\n",
       "      <th>children</th>\n",
       "      <td>0.042469</td>\n",
       "      <td>-0.017163</td>\n",
       "      <td>0.012759</td>\n",
       "      <td>1.000000</td>\n",
       "      <td>-0.007673</td>\n",
       "      <td>-0.005659</td>\n",
       "      <td>0.067998</td>\n",
       "    </tr>\n",
       "    <tr>\n",
       "      <th>smoker</th>\n",
       "      <td>0.025019</td>\n",
       "      <td>0.076185</td>\n",
       "      <td>-0.003750</td>\n",
       "      <td>-0.007673</td>\n",
       "      <td>1.000000</td>\n",
       "      <td>0.028745</td>\n",
       "      <td>-0.787251</td>\n",
       "    </tr>\n",
       "    <tr>\n",
       "      <th>region</th>\n",
       "      <td>0.005509</td>\n",
       "      <td>0.010443</td>\n",
       "      <td>-0.239601</td>\n",
       "      <td>-0.005659</td>\n",
       "      <td>0.028745</td>\n",
       "      <td>1.000000</td>\n",
       "      <td>-0.028181</td>\n",
       "    </tr>\n",
       "    <tr>\n",
       "      <th>charges</th>\n",
       "      <td>0.299008</td>\n",
       "      <td>-0.057292</td>\n",
       "      <td>0.198341</td>\n",
       "      <td>0.067998</td>\n",
       "      <td>-0.787251</td>\n",
       "      <td>-0.028181</td>\n",
       "      <td>1.000000</td>\n",
       "    </tr>\n",
       "  </tbody>\n",
       "</table>\n",
       "</div>"
      ],
      "text/plain": [
       "               age       sex       bmi  children    smoker    region   charges\n",
       "age       1.000000  0.020856  0.109272  0.042469  0.025019  0.005509  0.299008\n",
       "sex       0.020856  1.000000 -0.046371 -0.017163  0.076185  0.010443 -0.057292\n",
       "bmi       0.109272 -0.046371  1.000000  0.012759 -0.003750 -0.239601  0.198341\n",
       "children  0.042469 -0.017163  0.012759  1.000000 -0.007673 -0.005659  0.067998\n",
       "smoker    0.025019  0.076185 -0.003750 -0.007673  1.000000  0.028745 -0.787251\n",
       "region    0.005509  0.010443 -0.239601 -0.005659  0.028745  1.000000 -0.028181\n",
       "charges   0.299008 -0.057292  0.198341  0.067998 -0.787251 -0.028181  1.000000"
      ]
     },
     "execution_count": 28,
     "metadata": {},
     "output_type": "execute_result"
    }
   ],
   "source": [
    "MCI.corr()"
   ]
  },
  {
   "cell_type": "code",
   "execution_count": 29,
   "id": "38e07aec",
   "metadata": {},
   "outputs": [
    {
     "data": {
      "image/png": "[encoded data removed]",
      "text/plain": [
       "<Figure size 720x504 with 2 Axes>"
      ]
     },
     "metadata": {
      "needs_background": "light"
     },
     "output_type": "display_data"
    }
   ],
   "source": [
    "#Correlation of each column using heatmap.\n",
    "\n",
    "plt.figure(figsize=(10,7))\n",
    "sns.heatmap(MCI.corr(), annot = True)\n",
    "plt.show()"
   ]
  },
  {
   "cell_type": "markdown",
   "id": "073e55d9",
   "metadata": {},
   "source": [
    "## Now seprating the variables into x and y"
   ]
  },
  {
   "cell_type": "code",
   "execution_count": 39,
   "id": "f9e9a375",
   "metadata": {},
   "outputs": [],
   "source": [
    "x = MCI.drop(['charges','sex'], axis=1)\n",
    "y = MCI['charges']"
   ]
  },
  {
   "cell_type": "code",
   "execution_count": 40,
   "id": "290a8853",
   "metadata": {},
   "outputs": [
    {
     "data": {
      "text/html": [
       "<div>\n",
       "<style scoped>\n",
       "    .dataframe tbody tr th:only-of-type {\n",
       "        vertical-align: middle;\n",
       "    }\n",
       "\n",
       "    .dataframe tbody tr th {\n",
       "        vertical-align: top;\n",
       "    }\n",
       "\n",
       "    .dataframe thead th {\n",
       "        text-align: right;\n",
       "    }\n",
       "</style>\n",
       "<table border=\"1\" class=\"dataframe\">\n",
       "  <thead>\n",
       "    <tr style=\"text-align: right;\">\n",
       "      <th></th>\n",
       "      <th>age</th>\n",
       "      <th>bmi</th>\n",
       "      <th>children</th>\n",
       "      <th>smoker</th>\n",
       "      <th>region</th>\n",
       "    </tr>\n",
       "  </thead>\n",
       "  <tbody>\n",
       "    <tr>\n",
       "      <th>0</th>\n",
       "      <td>19</td>\n",
       "      <td>27.900</td>\n",
       "      <td>0</td>\n",
       "      <td>0</td>\n",
       "      <td>1</td>\n",
       "    </tr>\n",
       "    <tr>\n",
       "      <th>1</th>\n",
       "      <td>18</td>\n",
       "      <td>33.770</td>\n",
       "      <td>1</td>\n",
       "      <td>1</td>\n",
       "      <td>0</td>\n",
       "    </tr>\n",
       "    <tr>\n",
       "      <th>2</th>\n",
       "      <td>28</td>\n",
       "      <td>33.000</td>\n",
       "      <td>3</td>\n",
       "      <td>1</td>\n",
       "      <td>0</td>\n",
       "    </tr>\n",
       "    <tr>\n",
       "      <th>3</th>\n",
       "      <td>33</td>\n",
       "      <td>22.705</td>\n",
       "      <td>0</td>\n",
       "      <td>1</td>\n",
       "      <td>2</td>\n",
       "    </tr>\n",
       "    <tr>\n",
       "      <th>4</th>\n",
       "      <td>32</td>\n",
       "      <td>28.880</td>\n",
       "      <td>0</td>\n",
       "      <td>1</td>\n",
       "      <td>2</td>\n",
       "    </tr>\n",
       "    <tr>\n",
       "      <th>...</th>\n",
       "      <td>...</td>\n",
       "      <td>...</td>\n",
       "      <td>...</td>\n",
       "      <td>...</td>\n",
       "      <td>...</td>\n",
       "    </tr>\n",
       "    <tr>\n",
       "      <th>1333</th>\n",
       "      <td>50</td>\n",
       "      <td>30.970</td>\n",
       "      <td>3</td>\n",
       "      <td>1</td>\n",
       "      <td>2</td>\n",
       "    </tr>\n",
       "    <tr>\n",
       "      <th>1334</th>\n",
       "      <td>18</td>\n",
       "      <td>31.920</td>\n",
       "      <td>0</td>\n",
       "      <td>1</td>\n",
       "      <td>4</td>\n",
       "    </tr>\n",
       "    <tr>\n",
       "      <th>1335</th>\n",
       "      <td>18</td>\n",
       "      <td>36.850</td>\n",
       "      <td>0</td>\n",
       "      <td>1</td>\n",
       "      <td>0</td>\n",
       "    </tr>\n",
       "    <tr>\n",
       "      <th>1336</th>\n",
       "      <td>21</td>\n",
       "      <td>25.800</td>\n",
       "      <td>0</td>\n",
       "      <td>1</td>\n",
       "      <td>1</td>\n",
       "    </tr>\n",
       "    <tr>\n",
       "      <th>1337</th>\n",
       "      <td>61</td>\n",
       "      <td>29.070</td>\n",
       "      <td>0</td>\n",
       "      <td>0</td>\n",
       "      <td>2</td>\n",
       "    </tr>\n",
       "  </tbody>\n",
       "</table>\n",
       "<p>1338 rows × 5 columns</p>\n",
       "</div>"
      ],
      "text/plain": [
       "      age     bmi  children  smoker  region\n",
       "0      19  27.900         0       0       1\n",
       "1      18  33.770         1       1       0\n",
       "2      28  33.000         3       1       0\n",
       "3      33  22.705         0       1       2\n",
       "4      32  28.880         0       1       2\n",
       "...   ...     ...       ...     ...     ...\n",
       "1333   50  30.970         3       1       2\n",
       "1334   18  31.920         0       1       4\n",
       "1335   18  36.850         0       1       0\n",
       "1336   21  25.800         0       1       1\n",
       "1337   61  29.070         0       0       2\n",
       "\n",
       "[1338 rows x 5 columns]"
      ]
     },
     "execution_count": 40,
     "metadata": {},
     "output_type": "execute_result"
    }
   ],
   "source": [
    "x"
   ]
  },
  {
   "cell_type": "code",
   "execution_count": 41,
   "id": "adfe5467",
   "metadata": {},
   "outputs": [
    {
     "data": {
      "text/plain": [
       "0       16884.92400\n",
       "1        1725.55230\n",
       "2        4449.46200\n",
       "3       21984.47061\n",
       "4        3866.85520\n",
       "           ...     \n",
       "1333    10600.54830\n",
       "1334     2205.98080\n",
       "1335     1629.83350\n",
       "1336     2007.94500\n",
       "1337    29141.36030\n",
       "Name: charges, Length: 1338, dtype: float64"
      ]
     },
     "execution_count": 41,
     "metadata": {},
     "output_type": "execute_result"
    }
   ],
   "source": [
    "y"
   ]
  },
  {
   "cell_type": "markdown",
   "id": "05cef8f7",
   "metadata": {},
   "source": [
    "### Creating train test split"
   ]
  },
  {
   "cell_type": "code",
   "execution_count": 43,
   "id": "6a9cde2f",
   "metadata": {},
   "outputs": [
    {
     "name": "stdout",
     "output_type": "stream",
     "text": [
      "x_train shape:  (936, 5)\n",
      "x_test shape:  (402, 5)\n",
      "y_train shape:  (936,)\n",
      "x_test shape:  (402, 5)\n"
     ]
    }
   ],
   "source": [
    "x_train,x_test,y_train,y_test = train_test_split(x,y, test_size = 0.3, random_state=2)\n",
    "\n",
    "print(\"x_train shape: \", x_train.shape)\n",
    "print(\"x_test shape: \", x_test.shape)\n",
    "print(\"y_train shape: \", y_train.shape)\n",
    "print(\"x_test shape: \", x_test.shape)"
   ]
  },
  {
   "cell_type": "code",
   "execution_count": null,
   "id": "68f09c3c",
   "metadata": {},
   "outputs": [],
   "source": []
  },
  {
   "cell_type": "code",
   "execution_count": 44,
   "id": "46afc673",
   "metadata": {},
   "outputs": [
    {
     "data": {
      "text/plain": [
       "array([ 2.01904471e+03,  1.19088236e+04,  1.04809300e+04,  2.34255732e+03,\n",
       "        8.30702721e+03,  1.11574525e+04,  3.40687777e+03,  1.22417592e+03,\n",
       "        1.17312532e+04,  9.46176329e+03,  1.12320313e+04,  5.08118070e+03,\n",
       "        2.92316517e+04, -4.02744881e+02,  1.29157831e+04,  1.30916251e+04,\n",
       "        4.28816865e+03,  7.80234738e+03,  2.88303749e+04,  2.96520732e+03,\n",
       "        1.21373862e+04,  2.29379744e+03,  3.40820372e+04,  3.16368274e+04,\n",
       "        2.99676794e+04,  8.74505635e+03,  2.37641180e+03,  1.54366101e+04,\n",
       "        6.66469505e+03,  1.83499711e+03,  9.50572153e+03,  5.68395981e+03,\n",
       "        4.38468750e+03,  4.82191084e+03,  9.58190037e+03,  4.77021038e+03,\n",
       "        2.95473369e+04,  6.76433281e+03,  2.72428387e+04,  1.38180948e+04,\n",
       "        9.14675443e+01,  2.79599129e+04,  7.54787427e+03,  1.47106417e+03,\n",
       "        1.02835853e+04,  8.08926094e+03,  1.14039655e+04,  8.33993852e+03,\n",
       "        1.10253321e+04,  1.37566174e+04,  6.53028200e+03, -7.81208995e+02,\n",
       "        2.56621724e+04,  3.63468201e+04,  7.28285726e+03,  1.79931444e+04,\n",
       "        1.37432683e+03,  1.11051935e+04,  2.16496853e+03,  3.35392544e+04,\n",
       "        1.11639277e+04,  8.76075739e+02,  3.87565440e+03,  3.54420470e+04,\n",
       "       -1.09241620e+03,  1.43830036e+04,  1.47687273e+04,  3.47126359e+03,\n",
       "        1.26703229e+04,  1.10578842e+04,  1.14052741e+04,  1.60661167e+04,\n",
       "        9.88334880e+03,  9.96816814e+03,  1.55944615e+04,  1.23224119e+04,\n",
       "        4.51397903e+03,  3.60240095e+03,  5.41016212e+03,  1.29217987e+04,\n",
       "        8.90846383e+03,  1.24006449e+04,  9.94316565e+03,  2.72673111e+04,\n",
       "        1.25258156e+04,  3.75073301e+03,  3.78496859e+04,  1.07353075e+04,\n",
       "        8.36901962e+03,  1.12801712e+04,  1.13862848e+04,  1.49878628e+04,\n",
       "        1.09749312e+04,  1.35046724e+04,  5.88799648e+03,  2.52919447e+04,\n",
       "        4.95321561e+03,  1.04280926e+04,  3.06875259e+03,  2.84261966e+04,\n",
       "        7.15219934e+03,  3.58537290e+03,  2.49468391e+03,  1.58653835e+04,\n",
       "        7.75200682e+03,  9.96930337e+03,  9.83754473e+03,  4.99650960e+03,\n",
       "        1.52659650e+04,  3.35885624e+04,  3.90873001e+03,  1.12141322e+04,\n",
       "        2.46268039e+04,  1.53626671e+04,  2.30821434e+03,  9.86280228e+03,\n",
       "        9.18701185e+03,  6.20002139e+03,  1.16197439e+04,  2.83396675e+04,\n",
       "        6.37038506e+03,  7.04547282e+03,  1.59443466e+04,  1.66656394e+04,\n",
       "        8.46546378e+03,  2.61652775e+04,  3.43988265e+04,  1.17942478e+04,\n",
       "        7.79688744e+03,  9.53242568e+03,  8.07106433e+03,  3.51569326e+03,\n",
       "        3.43737752e+03,  4.61343325e+03,  8.14287484e+03,  8.57463306e+03,\n",
       "        7.17600240e+03,  2.84543926e+04,  3.46085903e+04,  3.95338467e+03,\n",
       "        2.74987274e+04,  4.11421131e+03,  6.52851788e+03,  1.33483835e+04,\n",
       "        8.03892038e+03,  3.59964293e+04,  1.17244100e+04,  1.10652849e+04,\n",
       "        7.97491971e+03,  5.27957161e+02,  6.56795772e+03,  7.38244362e+03,\n",
       "        4.80824682e+03,  1.15412556e+04,  1.13056887e+04,  1.53110012e+04,\n",
       "        6.40498150e+03,  2.77027338e+04,  1.68518416e+03,  1.17918603e+04,\n",
       "        1.73932341e+04,  1.38143173e+04,  9.47297167e+03,  2.75617229e+03,\n",
       "        4.26652242e+03,  8.86104382e+03,  1.91943286e+04,  2.81611480e+04,\n",
       "        1.29256819e+04,  3.03099059e+03,  3.25411650e+04,  1.30580474e+04,\n",
       "        3.28865950e+04,  3.41390484e+04,  1.15370212e+04,  7.43050277e+03,\n",
       "        3.13417973e+03,  2.96520732e+03,  1.17013897e+04,  7.89112067e+03,\n",
       "        2.83242372e+03,  1.01125772e+03,  3.10373994e+04,  7.08363414e+03,\n",
       "        5.79719415e+03,  2.67133612e+04,  7.24861612e+03,  2.62304605e+03,\n",
       "        7.91218219e+03,  3.46647386e+04,  7.70660425e+03,  4.33565651e+03,\n",
       "        9.46197712e+03,  2.67476896e+04,  6.35677311e+03,  3.96554932e+04,\n",
       "        3.67922739e+04,  1.34110260e+04,  2.62533715e+04,  1.23582625e+04,\n",
       "        3.70262197e+04,  7.15275504e+03,  4.14243064e+03,  1.82361741e+03,\n",
       "        1.44972904e+04,  1.37286046e+04,  2.74571603e+03,  3.50045917e+04,\n",
       "        1.28543655e+04,  8.47681837e+03,  1.18261734e+03,  3.01597084e+04,\n",
       "        3.81633643e+03,  3.85316512e+03,  1.21254490e+04,  1.47021570e+04,\n",
       "        2.91650349e+04, -9.67900415e+01,  3.28678939e+03,  8.29759027e+03,\n",
       "        3.96267866e+04,  8.66004926e+03,  3.50501353e+04,  2.67477433e+04,\n",
       "        1.33448651e+04,  2.83026019e+04,  1.72470342e+04,  7.44798773e+03,\n",
       "        1.61109981e+04,  7.27211174e+03,  1.05482040e+04,  3.72069612e+03,\n",
       "        8.80198190e+03,  1.74440625e+03,  3.20215855e+04,  3.13830076e+04,\n",
       "        1.48715870e+04,  1.14966240e+04,  1.58552206e+03,  6.01652918e+03,\n",
       "        1.11553496e+04,  4.35848842e+03,  1.08330460e+04,  9.64049496e+02,\n",
       "        3.41207299e+04,  3.16469291e+04,  1.01293064e+04,  2.56989892e+04,\n",
       "        1.26522521e+04,  2.27361164e+03,  1.12914853e+04,  3.03090662e+03,\n",
       "        8.11936829e+03,  1.06569443e+04,  1.70758524e+04,  5.69682040e+03,\n",
       "        1.07124131e+04, -2.41107425e+01, -1.92939039e+03,  1.98507724e+03,\n",
       "        2.72204466e+04,  3.31898322e+04,  3.73054752e+04, -1.78398776e+03,\n",
       "        1.62409983e+04,  3.59919512e+04,  1.30279278e+04,  3.33004121e+04,\n",
       "        9.38985335e+02,  9.22691326e+03,  1.30374656e+04,  1.54471432e+03,\n",
       "        1.06629900e+04,  3.82738783e+04,  8.23436608e+03,  1.23438272e+04,\n",
       "        9.43922888e+03,  3.20377386e+04,  9.93358957e+03,  3.10540493e+04,\n",
       "        2.97742801e+03,  6.24029603e+03,  1.70757756e+03,  5.46419636e+03,\n",
       "        3.87308529e+04,  2.52165413e+04,  3.41325715e+04,  1.09105695e+04,\n",
       "        1.35496489e+04,  1.83111313e+04,  5.85113877e+03,  7.07806847e+03,\n",
       "        1.19905329e+04,  1.48256930e+04,  4.04128765e+03,  2.51464472e+03,\n",
       "        9.10638637e+03,  8.08698052e+03,  9.80413764e+03,  8.29496722e+03,\n",
       "        2.88368772e+03,  9.92646499e+03,  2.98878379e+04,  5.95979615e+03,\n",
       "        4.50118274e+03,  3.75211802e+03,  1.05558498e+04,  1.09141756e+04,\n",
       "        3.80721965e+04,  8.19413884e+03,  1.37260106e+04,  1.18896413e+04,\n",
       "        9.46391882e+03,  1.38293621e+03,  2.83894384e+04,  1.36431785e+04,\n",
       "        1.26884295e+04,  1.66537569e+04,  1.05857627e+04,  1.04293537e+04,\n",
       "        1.36593539e+04,  2.74641489e+04,  1.38366864e+04,  5.33980838e+03,\n",
       "        5.24886245e+03,  9.96792401e+03,  7.00446346e+03,  1.07361726e+04,\n",
       "        7.41360947e+03,  4.59048446e+03,  1.58414384e+04,  2.50782270e+04,\n",
       "        5.48149786e+03,  1.77079466e+04,  8.04848123e+03,  4.01639609e+03,\n",
       "        2.69209153e+04,  3.16516663e+04,  1.15729265e+04,  5.36443869e+03,\n",
       "        1.28481413e+04,  3.15254179e+04,  1.19676835e+03,  1.04081509e+04,\n",
       "        3.37217980e+04,  1.15400768e+04,  5.06783420e+03,  2.97467484e+04,\n",
       "        8.38511957e+03,  1.25972813e+04,  9.98032302e+03,  7.82631549e+03,\n",
       "        5.11253831e+03,  1.06119626e+04,  3.58796565e+03,  8.14019843e+03,\n",
       "        8.94962740e+03,  7.51067958e+03,  3.32136290e+04,  4.69032254e+03,\n",
       "        1.60110507e+04,  1.32200112e+04,  1.08294308e+04,  9.46972138e+03,\n",
       "        3.88621688e+04,  1.37629232e+04,  3.64509472e+04,  1.47035139e+04,\n",
       "        2.17302641e+03,  3.13805509e+04,  9.28990087e+03,  7.85244410e+03,\n",
       "        7.74543373e+03,  2.62262640e+04,  3.64261736e+04,  8.45211599e+03,\n",
       "        1.03447248e+04,  4.05920149e+04,  3.40928210e+03,  1.54318427e+04,\n",
       "        3.81291483e+03,  2.89815498e+04,  8.23208664e+03,  1.69694110e+04,\n",
       "        1.41731410e+04,  2.72055858e+03,  3.58746219e+04,  1.16131768e+04,\n",
       "        2.05423440e+03,  1.20348582e+04,  5.82547799e+03,  1.52510925e+04,\n",
       "        3.45647117e+03,  3.60630692e+04,  6.26239292e+03,  8.87619966e+03,\n",
       "        7.67955121e+03,  4.02046897e+03,  1.12133448e+04,  3.37552222e+04,\n",
       "        3.57371121e+04,  6.95408243e+03])"
      ]
     },
     "execution_count": 44,
     "metadata": {},
     "output_type": "execute_result"
    }
   ],
   "source": [
    "from sklearn.linear_model import LinearRegression\n",
    "\n",
    "lg = LinearRegression()\n",
    "lg.fit(x_train, y_train)\n",
    "y_pred = lg.predict(x_test)\n",
    "y_pred"
   ]
  },
  {
   "cell_type": "code",
   "execution_count": 45,
   "id": "3da3d564",
   "metadata": {},
   "outputs": [
    {
     "name": "stdout",
     "output_type": "stream",
     "text": [
      "R2 score :  0.7661991120397695\n"
     ]
    }
   ],
   "source": [
    "from sklearn.metrics import r2_score\n",
    "\n",
    "print(\"R2 score : \",(r2_score(y_test,y_pred)))"
   ]
  },
  {
   "cell_type": "markdown",
   "id": "7ee312bb",
   "metadata": {},
   "source": [
    "## Let's visualize scatterplot of y_test and y_pred"
   ]
  },
  {
   "cell_type": "code",
   "execution_count": 46,
   "id": "fe3f0d1d",
   "metadata": {},
   "outputs": [
    {
     "data": {
      "image/png": "[encoded data removed]",
      "text/plain": [
       "<Figure size 432x288 with 1 Axes>"
      ]
     },
     "metadata": {
      "needs_background": "light"
     },
     "output_type": "display_data"
    }
   ],
   "source": [
    "plt.scatter(y_test,y_pred)\n",
    "plt.xlabel('Y Test')\n",
    "plt.ylabel('Y Pred')\n",
    "plt.title('Comparision Between Y Test and Y Pred')\n",
    "plt.show()"
   ]
  },
  {
   "cell_type": "code",
   "execution_count": null,
   "id": "e29d89c4",
   "metadata": {},
   "outputs": [],
   "source": []
  },
  {
   "cell_type": "markdown",
   "id": "949b707c",
   "metadata": {},
   "source": [
    "## Checking the non smoker medical insurance cost "
   ]
  },
  {
   "cell_type": "code",
   "execution_count": 50,
   "id": "6218c602",
   "metadata": {},
   "outputs": [
    {
     "data": {
      "text/html": [
       "<div>\n",
       "<style scoped>\n",
       "    .dataframe tbody tr th:only-of-type {\n",
       "        vertical-align: middle;\n",
       "    }\n",
       "\n",
       "    .dataframe tbody tr th {\n",
       "        vertical-align: top;\n",
       "    }\n",
       "\n",
       "    .dataframe thead th {\n",
       "        text-align: right;\n",
       "    }\n",
       "</style>\n",
       "<table border=\"1\" class=\"dataframe\">\n",
       "  <thead>\n",
       "    <tr style=\"text-align: right;\">\n",
       "      <th></th>\n",
       "      <th>age</th>\n",
       "      <th>bmi</th>\n",
       "      <th>children</th>\n",
       "      <th>smoker</th>\n",
       "      <th>region</th>\n",
       "    </tr>\n",
       "  </thead>\n",
       "  <tbody>\n",
       "    <tr>\n",
       "      <th>0</th>\n",
       "      <td>50</td>\n",
       "      <td>25</td>\n",
       "      <td>2</td>\n",
       "      <td>1</td>\n",
       "      <td>2</td>\n",
       "    </tr>\n",
       "  </tbody>\n",
       "</table>\n",
       "</div>"
      ],
      "text/plain": [
       "   age  bmi  children  smoker  region\n",
       "0   50   25         2       1       2"
      ]
     },
     "execution_count": 50,
     "metadata": {},
     "output_type": "execute_result"
    }
   ],
   "source": [
    "NS_data = {'age':50, 'bmi':25, 'children':2, 'smoker':1, 'region':2}\n",
    "index = [0]\n",
    "non_smoker = pd.DataFrame(NS_data, index)\n",
    "non_smoker"
   ]
  },
  {
   "cell_type": "code",
   "execution_count": 51,
   "id": "976eb86d",
   "metadata": {},
   "outputs": [
    {
     "name": "stdout",
     "output_type": "stream",
     "text": [
      "The medical insurance cost of the new customer is:  [9757.13698644]\n"
     ]
    }
   ],
   "source": [
    "cost_pred = lg.predict(non_smoker)\n",
    "print(\"The medical insurance cost of the new customer is: \", cost_pred)"
   ]
  },
  {
   "cell_type": "code",
   "execution_count": null,
   "id": "a2d99474",
   "metadata": {},
   "outputs": [],
   "source": []
  },
  {
   "cell_type": "markdown",
   "id": "b446941b",
   "metadata": {},
   "source": [
    "## Checking the smoker medical insurance cost"
   ]
  },
  {
   "cell_type": "code",
   "execution_count": 53,
   "id": "e603deaa",
   "metadata": {},
   "outputs": [
    {
     "data": {
      "text/html": [
       "<div>\n",
       "<style scoped>\n",
       "    .dataframe tbody tr th:only-of-type {\n",
       "        vertical-align: middle;\n",
       "    }\n",
       "\n",
       "    .dataframe tbody tr th {\n",
       "        vertical-align: top;\n",
       "    }\n",
       "\n",
       "    .dataframe thead th {\n",
       "        text-align: right;\n",
       "    }\n",
       "</style>\n",
       "<table border=\"1\" class=\"dataframe\">\n",
       "  <thead>\n",
       "    <tr style=\"text-align: right;\">\n",
       "      <th></th>\n",
       "      <th>age</th>\n",
       "      <th>bmi</th>\n",
       "      <th>children</th>\n",
       "      <th>smoker</th>\n",
       "      <th>region</th>\n",
       "    </tr>\n",
       "  </thead>\n",
       "  <tbody>\n",
       "    <tr>\n",
       "      <th>0</th>\n",
       "      <td>19</td>\n",
       "      <td>27.9</td>\n",
       "      <td>0</td>\n",
       "      <td>0</td>\n",
       "      <td>1</td>\n",
       "    </tr>\n",
       "  </tbody>\n",
       "</table>\n",
       "</div>"
      ],
      "text/plain": [
       "   age   bmi  children  smoker  region\n",
       "0   19  27.9         0       0       1"
      ]
     },
     "execution_count": 53,
     "metadata": {},
     "output_type": "execute_result"
    }
   ],
   "source": [
    "Smoker_data = {'age':19, 'bmi':27.9, 'children':0, 'smoker':0, 'region':1}\n",
    "index = [0]\n",
    "smoker = pd.DataFrame(Smoker_data, index)\n",
    "smoker"
   ]
  },
  {
   "cell_type": "code",
   "execution_count": 54,
   "id": "0c3cfd85",
   "metadata": {},
   "outputs": [
    {
     "name": "stdout",
     "output_type": "stream",
     "text": [
      "The medical insurance cost of the new customer is:  [25078.22697274]\n"
     ]
    }
   ],
   "source": [
    "cost_pred = lg.predict(smoker)\n",
    "print(\"The medical insurance cost of the new customer is: \", cost_pred)"
   ]
  },
  {
   "cell_type": "code",
   "execution_count": null,
   "id": "7233917d",
   "metadata": {},
   "outputs": [],
   "source": []
  }
 ],
 "metadata": {
  "kernelspec": {
   "display_name": "Python 3 (ipykernel)",
   "language": "python",
   "name": "python3"
  },
  "language_info": {
   "codemirror_mode": {
    "name": "ipython",
    "version": 3
   },
   "file_extension": ".py",
   "mimetype": "text/x-python",
   "name": "python",
   "nbconvert_exporter": "python",
   "pygments_lexer": "ipython3",
   "version": "3.9.12"
  }
 },
 "nbformat": 4,
 "nbformat_minor": 5
}
